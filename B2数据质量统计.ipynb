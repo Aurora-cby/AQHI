{
 "cells": [
  {
   "cell_type": "code",
   "execution_count": 1,
   "metadata": {},
   "outputs": [],
   "source": [
    "from pyspark.sql import *\n",
    "import pandas as pd\n",
    "from time import time\n",
    "from GetPath import *"
   ]
  },
  {
   "cell_type": "code",
   "execution_count": 2,
   "metadata": {},
   "outputs": [],
   "source": [
    "# Config\n",
    "input_path='D:/output/chenbingying/B2/'\n",
    "output_path='D:/Output/chenbingying/Check/'"
   ]
  },
  {
   "cell_type": "code",
   "execution_count": 3,
   "metadata": {},
   "outputs": [],
   "source": [
    "def Check_B2(input_path,output_path):\n",
    "    t_start=time()\n",
    "    spark = SparkSession.builder.appName('B2_Check').config('spark.dynamicAllocation.enabled','true').config('spark.debug.maxToStringFields', '100').config('spark.sql.execution.arrow.enable','true').config('spark.executor.memory','48g').config('spark.driver.memory', '48g').config('spark.core.connection.ack.wait.timeout','36000s').config('spark.executor.heartbeatInterval','36000s').config('spark.network.timeout', '50000s').config('spark.rpc.lookupTimeout', '5000s').config('spark.shuffle.io.connectionTimeout', '50000s').getOrCreate()\n",
    "    result_list=[]\n",
    "    namelist=[]\n",
    "    filelist=GetPath(input_path)\n",
    "    for file in filelist:\n",
    "        print(\"正在处理 \",file)\n",
    "        start=time()\n",
    "        spark.read.option('inferSchema','true').option('header','true').csv(file).createOrReplaceTempView('B2_Raw')\n",
    "        print('读入数据耗时：%.2f秒'%(time()-start))\n",
    "        start=time()\n",
    "        result=spark.sql('''select \n",
    "            count(*) as TOTAL\n",
    "            ,count(ID_NUMBER) as ID_NUMBER\n",
    "            ,count(AGE) as AGE\n",
    "            ,count(GENDER) as GENDER\n",
    "            ,count(VISITING_DATE) as VISITING_DATE \n",
    "            ,count(DISEASE_DIAGNOSIS_CODE) as DISEASE_DIAGNOSIS_CODE\n",
    "            ,count(VISITING_TYPE_CODE) as VISITING_TYPE_CODE\n",
    "            ,count(VISITING_TYPE_NAME) as VISITING_TYPE_NAME\n",
    "            ,count(ICD_CODE) as ICD_CODE\n",
    "            ,count(CITY) as CITY\n",
    "            ,count(DISTRICT) as DISTRICT\n",
    "            ,sum(case when MEDICAL_INSTITUTION_CODE is not null and FILE_NUMBER is not null then 1 else 0 end) as MF\n",
    "            ,sum(case when CARD_TYPE is not null and CARD_NUMBER is not null then 1 else 0 end) as CC\n",
    "            from B2_Raw\n",
    "        ''').toPandas()\n",
    "        for i in result.columns:\n",
    "            if(i!='TOTAL'):\n",
    "                result.insert(result.columns.get_loc(i)+1,i+'_RATE',result[i]/result['TOTAL']*100)\n",
    "        result_list.append(result)\n",
    "        print('处理数据耗时：%.2f秒'%(time()-start))\n",
    "        namelist.append(file.split('/')[-2:-1][0])\n",
    "    df=pd.concat(result_list)\n",
    "    df.insert(0,'FILE',namelist)\n",
    "    df.columns=['文件名', '数据总量','ID_NUMBER非空数据量','ID_NUMBER完整率','AGE非空数据量','AGE完整率','GENDER非空数据量','GENDER完整率','VISITING_DATE非空数据量','VISITING_DATE完整率','DISEASE_DIAGNOSIS_CODE非空数据量','DISEASE_DIAGNOSIS_CODE完整率','VISITING_TYPE_CODE非空数据量','VISITING_TYPE_CODE完整率','VISITING_TYPE_NAME非空数据量','VISITING_TYPE_NAME完整率','ICD_CODE非空数据量','ICD_CODE完整率','CITY非空数据量','CITY完整率','DISTRICT非空数据量','DISTRICT完整率','MEDICAL_INSTITUTION_CODE,FILE_NUMBER字段组合非空个数==2数据量','MEDICAL_INSTITUTION_CODE,FILE_NUMBER字段组合非空个数==2占比','CARD_TYPE,CARD_NUMBER字段组合非空个数==2数据量','CARD_TYPE,CARD_NUMBER字段组合非空个数==2占比']\n",
    "    df.to_csv(output_path+'B2统计.csv',index=None)\n",
    "    spark.catalog.dropTempView(\"B2_Raw\")\n",
    "    print(f'已输出至：{output_path}B2统计.csv','\\n总耗时：%.2f秒'%(time()-t_start))"
   ]
  },
  {
   "cell_type": "code",
   "execution_count": 4,
   "metadata": {},
   "outputs": [
    {
     "name": "stdout",
     "output_type": "stream",
     "text": [
      "正在处理  D:/output/zhuhao/B2/tb_cis_op_visiting_record_201401_201806.csv\n",
      "读入数据耗时：71.79秒\n",
      "处理数据耗时：86.67秒\n",
      "正在处理  D:/output/zhuhao/B2/tb_cis_op_visiting_record_201807_201912.csv\n",
      "读入数据耗时：54.13秒\n",
      "处理数据耗时：66.39秒\n",
      "正在处理  D:/output/zhuhao/B2/tb_cis_op_visiting_record_202001_202012.csv\n",
      "读入数据耗时：59.81秒\n",
      "处理数据耗时：75.31秒\n",
      "正在处理  D:/output/zhuhao/B2/tb_cis_op_visiting_record_202101_202112.csv\n",
      "读入数据耗时：55.38秒\n",
      "处理数据耗时：73.74秒\n",
      "正在处理  D:/output/zhuhao/B2/tb_cis_op_visiting_record_202201_202205.csv\n",
      "读入数据耗时：30.25秒\n",
      "处理数据耗时：39.84秒\n",
      "已输出至：D:/Output/zhuhao/Check/B2统计.csv \n",
      "总耗时：616.80秒\n"
     ]
    }
   ],
   "source": [
    "if __name__==\"__main__\":\n",
    "    Check_B2(input_path,output_path)"
   ]
  }
 ],
 "metadata": {
  "kernelspec": {
   "display_name": "Python 3",
   "language": "python",
   "name": "python3"
  },
  "language_info": {
   "codemirror_mode": {
    "name": "ipython",
    "version": 3
   },
   "file_extension": ".py",
   "mimetype": "text/x-python",
   "name": "python",
   "nbconvert_exporter": "python",
   "pygments_lexer": "ipython3",
   "version": "3.9.5"
  },
  "orig_nbformat": 4
 },
 "nbformat": 4,
 "nbformat_minor": 2
}
